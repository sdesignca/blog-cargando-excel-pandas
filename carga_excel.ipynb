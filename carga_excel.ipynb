{
 "metadata": {
  "language_info": {
   "codemirror_mode": {
    "name": "ipython",
    "version": 3
   },
   "file_extension": ".py",
   "mimetype": "text/x-python",
   "name": "python",
   "nbconvert_exporter": "python",
   "pygments_lexer": "ipython3",
   "version": "3.9.2"
  },
  "orig_nbformat": 2,
  "kernelspec": {
   "name": "python392jvsc74a57bd0a78c4be66ba3b4a897c6e596b18611fdff70693afae29e50365a94a133cff73c",
   "display_name": "Python 3.9.2 64-bit"
  },
  "metadata": {
   "interpreter": {
    "hash": "a78c4be66ba3b4a897c6e596b18611fdff70693afae29e50365a94a133cff73c"
   }
  }
 },
 "nbformat": 4,
 "nbformat_minor": 2,
 "cells": [
  {
   "source": [
    "Importamos la libreria de Pandas"
   ],
   "cell_type": "markdown",
   "metadata": {}
  },
  {
   "cell_type": "code",
   "execution_count": 1,
   "metadata": {},
   "outputs": [],
   "source": [
    "import pandas as pd"
   ]
  },
  {
   "source": [
    "Establecemos un formato de despliegue de dos decimales para los valores decimales o _float_"
   ],
   "cell_type": "markdown",
   "metadata": {}
  },
  {
   "cell_type": "code",
   "execution_count": 2,
   "metadata": {},
   "outputs": [],
   "source": [
    "pd.options.display.float_format = '{:,.2f}'.format"
   ]
  },
  {
   "source": [
    "## Primer Archivo de Muestra"
   ],
   "cell_type": "markdown",
   "metadata": {}
  },
  {
   "source": [
    "Cargamos nuestro un archivo de Excel **sin formato**"
   ],
   "cell_type": "markdown",
   "metadata": {}
  },
  {
   "cell_type": "code",
   "execution_count": null,
   "metadata": {},
   "outputs": [],
   "source": [
    "datos = pd.read_excel(\"datos.xlsx\")"
   ]
  },
  {
   "source": [
    "Mostramos los datos del _DataFrame_ en nuestra variable **datos**"
   ],
   "cell_type": "markdown",
   "metadata": {}
  },
  {
   "cell_type": "code",
   "execution_count": null,
   "metadata": {},
   "outputs": [],
   "source": [
    "datos.head()"
   ]
  },
  {
   "source": [
    "## Segundo Archivo de Muestra"
   ],
   "cell_type": "markdown",
   "metadata": {}
  },
  {
   "source": [
    "Cargamos un archivo de Excel **con formato** de un reporte de **_Generación de Desperdicios por País_** extraído de https://stats.oecd.org \n",
    "\n",
    "Donde indicamos que vamos a cargar unicamente los datos de la hoja \"**OECD.Stat export**\", además omitimos (_skiprows_) las primeras 4 filas, y las últimas (_skipfooter_) 4 filas"
   ],
   "cell_type": "markdown",
   "metadata": {}
  },
  {
   "cell_type": "code",
   "execution_count": null,
   "metadata": {},
   "outputs": [],
   "source": [
    "datos = pd.read_excel(\"WasteBySector.xlsx\",\n",
    "                       sheet_name='OECD.Stat export',\n",
    "                       skiprows=4,\n",
    "                       skipfooter=4)"
   ]
  },
  {
   "source": [
    "Mostramos los datos del _DataFrame_ asignado a la variable **datos**"
   ],
   "cell_type": "markdown",
   "metadata": {}
  },
  {
   "cell_type": "code",
   "execution_count": null,
   "metadata": {},
   "outputs": [],
   "source": [
    "datos.head(30)"
   ]
  },
  {
   "source": [
    "a la función de la carga de Excel se le agrega como parámetro las columnas que deseamos cargar, en nuestro caso es la columna **A**, y las columnas de la **C** hasta la **K**"
   ],
   "cell_type": "markdown",
   "metadata": {}
  },
  {
   "cell_type": "code",
   "execution_count": 3,
   "metadata": {},
   "outputs": [],
   "source": [
    "datos = pd.read_excel(\"WasteBySector.xlsx\",\n",
    "                       sheet_name='OECD.Stat export',\n",
    "                       skiprows=4,\n",
    "                       skipfooter=4,\n",
    "                       usecols=\"A,C:K\")"
   ]
  },
  {
   "source": [
    "Mostramos los datos del _DataFrame_ asignado a la variable **datos**"
   ],
   "cell_type": "markdown",
   "metadata": {}
  },
  {
   "cell_type": "code",
   "execution_count": null,
   "metadata": {},
   "outputs": [],
   "source": [
    "datos.head()"
   ]
  },
  {
   "source": [
    "Cambiamos el nombre de la columna **Year** (año) por **Country** (País)"
   ],
   "cell_type": "markdown",
   "metadata": {}
  },
  {
   "cell_type": "code",
   "execution_count": 4,
   "metadata": {},
   "outputs": [],
   "source": [
    "datos.rename(columns={'Year':'Country'},inplace=True)"
   ]
  },
  {
   "source": [
    "Mostramos los datos del _DataFrame_ asignado a la variable **datos**"
   ],
   "cell_type": "markdown",
   "metadata": {}
  },
  {
   "cell_type": "code",
   "execution_count": null,
   "metadata": {},
   "outputs": [],
   "source": [
    "datos.head()"
   ]
  },
  {
   "source": [
    "Eliminamos la primera fila y precerbamos el cambio en el _DataFrame_"
   ],
   "cell_type": "markdown",
   "metadata": {}
  },
  {
   "cell_type": "code",
   "execution_count": 5,
   "metadata": {},
   "outputs": [],
   "source": [
    "datos.drop(index=0,axis=\"index\",inplace=True)"
   ]
  },
  {
   "source": [
    "Mostramos los datos del _DataFrame_ asignado a la variable **datos**"
   ],
   "cell_type": "markdown",
   "metadata": {}
  },
  {
   "cell_type": "code",
   "execution_count": 6,
   "metadata": {},
   "outputs": [
    {
     "output_type": "execute_result",
     "data": {
      "text/plain": [
       "          Country      2004      2006      2008      2010      2012      2014  \\\n",
       "1         Austria 53,020.95  54,286.6 56,308.77 46,799.58 48,045.09  55,868.3   \n",
       "2         Belgium 52,809.34 59,351.72 48,621.91  61,345.8 53,839.47 57,965.39   \n",
       "3  Czech Republic 29,275.74 24,745.75  25,419.7 23,757.57 23,171.36 23,394.96   \n",
       "4         Denmark 12,588.95 14,703.14 15,155.21 16,217.74 16,713.82 20,808.84   \n",
       "5         Estonia 20,860.68  18,932.9 19,583.86  19,000.2 21,992.34 21,804.04   \n",
       "\n",
       "  2015      2016      2018  \n",
       "1   .. 61,225.04 65,666.13  \n",
       "2   .. 63,152.38 67,613.23  \n",
       "3   .. 25,381.43 27,913.45  \n",
       "4   .. 20,981.93  21,445.9  \n",
       "5   .. 24,277.88 23,185.58  "
      ],
      "text/html": "<div>\n<style scoped>\n    .dataframe tbody tr th:only-of-type {\n        vertical-align: middle;\n    }\n\n    .dataframe tbody tr th {\n        vertical-align: top;\n    }\n\n    .dataframe thead th {\n        text-align: right;\n    }\n</style>\n<table border=\"1\" class=\"dataframe\">\n  <thead>\n    <tr style=\"text-align: right;\">\n      <th></th>\n      <th>Country</th>\n      <th>2004</th>\n      <th>2006</th>\n      <th>2008</th>\n      <th>2010</th>\n      <th>2012</th>\n      <th>2014</th>\n      <th>2015</th>\n      <th>2016</th>\n      <th>2018</th>\n    </tr>\n  </thead>\n  <tbody>\n    <tr>\n      <th>1</th>\n      <td>Austria</td>\n      <td>53,020.95</td>\n      <td>54,286.6</td>\n      <td>56,308.77</td>\n      <td>46,799.58</td>\n      <td>48,045.09</td>\n      <td>55,868.3</td>\n      <td>..</td>\n      <td>61,225.04</td>\n      <td>65,666.13</td>\n    </tr>\n    <tr>\n      <th>2</th>\n      <td>Belgium</td>\n      <td>52,809.34</td>\n      <td>59,351.72</td>\n      <td>48,621.91</td>\n      <td>61,345.8</td>\n      <td>53,839.47</td>\n      <td>57,965.39</td>\n      <td>..</td>\n      <td>63,152.38</td>\n      <td>67,613.23</td>\n    </tr>\n    <tr>\n      <th>3</th>\n      <td>Czech Republic</td>\n      <td>29,275.74</td>\n      <td>24,745.75</td>\n      <td>25,419.7</td>\n      <td>23,757.57</td>\n      <td>23,171.36</td>\n      <td>23,394.96</td>\n      <td>..</td>\n      <td>25,381.43</td>\n      <td>27,913.45</td>\n    </tr>\n    <tr>\n      <th>4</th>\n      <td>Denmark</td>\n      <td>12,588.95</td>\n      <td>14,703.14</td>\n      <td>15,155.21</td>\n      <td>16,217.74</td>\n      <td>16,713.82</td>\n      <td>20,808.84</td>\n      <td>..</td>\n      <td>20,981.93</td>\n      <td>21,445.9</td>\n    </tr>\n    <tr>\n      <th>5</th>\n      <td>Estonia</td>\n      <td>20,860.68</td>\n      <td>18,932.9</td>\n      <td>19,583.86</td>\n      <td>19,000.2</td>\n      <td>21,992.34</td>\n      <td>21,804.04</td>\n      <td>..</td>\n      <td>24,277.88</td>\n      <td>23,185.58</td>\n    </tr>\n  </tbody>\n</table>\n</div>"
     },
     "metadata": {},
     "execution_count": 6
    }
   ],
   "source": [
    "datos.head()"
   ]
  },
  {
   "source": [
    "Restablecemos el valor del índice del _DataFrame_ de Pandas y precerbamos el cambio en la variable actual"
   ],
   "cell_type": "markdown",
   "metadata": {}
  },
  {
   "cell_type": "code",
   "execution_count": 7,
   "metadata": {},
   "outputs": [],
   "source": [
    "datos.reset_index(drop=True,inplace=True)"
   ]
  },
  {
   "source": [
    "Mostramos los datos del _DataFrame_ asignado a la variable **datos**"
   ],
   "cell_type": "markdown",
   "metadata": {}
  },
  {
   "cell_type": "code",
   "execution_count": 8,
   "metadata": {},
   "outputs": [
    {
     "output_type": "execute_result",
     "data": {
      "text/plain": [
       "          Country      2004      2006      2008      2010      2012      2014  \\\n",
       "0         Austria 53,020.95  54,286.6 56,308.77 46,799.58 48,045.09  55,868.3   \n",
       "1         Belgium 52,809.34 59,351.72 48,621.91  61,345.8 53,839.47 57,965.39   \n",
       "2  Czech Republic 29,275.74 24,745.75  25,419.7 23,757.57 23,171.36 23,394.96   \n",
       "3         Denmark 12,588.95 14,703.14 15,155.21 16,217.74 16,713.82 20,808.84   \n",
       "4         Estonia 20,860.68  18,932.9 19,583.86  19,000.2 21,992.34 21,804.04   \n",
       "\n",
       "  2015      2016      2018  \n",
       "0   .. 61,225.04 65,666.13  \n",
       "1   .. 63,152.38 67,613.23  \n",
       "2   .. 25,381.43 27,913.45  \n",
       "3   .. 20,981.93  21,445.9  \n",
       "4   .. 24,277.88 23,185.58  "
      ],
      "text/html": "<div>\n<style scoped>\n    .dataframe tbody tr th:only-of-type {\n        vertical-align: middle;\n    }\n\n    .dataframe tbody tr th {\n        vertical-align: top;\n    }\n\n    .dataframe thead th {\n        text-align: right;\n    }\n</style>\n<table border=\"1\" class=\"dataframe\">\n  <thead>\n    <tr style=\"text-align: right;\">\n      <th></th>\n      <th>Country</th>\n      <th>2004</th>\n      <th>2006</th>\n      <th>2008</th>\n      <th>2010</th>\n      <th>2012</th>\n      <th>2014</th>\n      <th>2015</th>\n      <th>2016</th>\n      <th>2018</th>\n    </tr>\n  </thead>\n  <tbody>\n    <tr>\n      <th>0</th>\n      <td>Austria</td>\n      <td>53,020.95</td>\n      <td>54,286.6</td>\n      <td>56,308.77</td>\n      <td>46,799.58</td>\n      <td>48,045.09</td>\n      <td>55,868.3</td>\n      <td>..</td>\n      <td>61,225.04</td>\n      <td>65,666.13</td>\n    </tr>\n    <tr>\n      <th>1</th>\n      <td>Belgium</td>\n      <td>52,809.34</td>\n      <td>59,351.72</td>\n      <td>48,621.91</td>\n      <td>61,345.8</td>\n      <td>53,839.47</td>\n      <td>57,965.39</td>\n      <td>..</td>\n      <td>63,152.38</td>\n      <td>67,613.23</td>\n    </tr>\n    <tr>\n      <th>2</th>\n      <td>Czech Republic</td>\n      <td>29,275.74</td>\n      <td>24,745.75</td>\n      <td>25,419.7</td>\n      <td>23,757.57</td>\n      <td>23,171.36</td>\n      <td>23,394.96</td>\n      <td>..</td>\n      <td>25,381.43</td>\n      <td>27,913.45</td>\n    </tr>\n    <tr>\n      <th>3</th>\n      <td>Denmark</td>\n      <td>12,588.95</td>\n      <td>14,703.14</td>\n      <td>15,155.21</td>\n      <td>16,217.74</td>\n      <td>16,713.82</td>\n      <td>20,808.84</td>\n      <td>..</td>\n      <td>20,981.93</td>\n      <td>21,445.9</td>\n    </tr>\n    <tr>\n      <th>4</th>\n      <td>Estonia</td>\n      <td>20,860.68</td>\n      <td>18,932.9</td>\n      <td>19,583.86</td>\n      <td>19,000.2</td>\n      <td>21,992.34</td>\n      <td>21,804.04</td>\n      <td>..</td>\n      <td>24,277.88</td>\n      <td>23,185.58</td>\n    </tr>\n  </tbody>\n</table>\n</div>"
     },
     "metadata": {},
     "execution_count": 8
    }
   ],
   "source": [
    "datos.head()"
   ]
  },
  {
   "source": [
    "Mostramos la información del _DataFrame_"
   ],
   "cell_type": "markdown",
   "metadata": {}
  },
  {
   "cell_type": "code",
   "execution_count": 9,
   "metadata": {},
   "outputs": [
    {
     "output_type": "stream",
     "name": "stdout",
     "text": [
      "<class 'pandas.core.frame.DataFrame'>\nRangeIndex: 27 entries, 0 to 26\nData columns (total 10 columns):\n #   Column   Non-Null Count  Dtype  \n---  ------   --------------  -----  \n 0   Country  27 non-null     object \n 1   2004     27 non-null     object \n 2   2006     27 non-null     object \n 3   2008     27 non-null     object \n 4   2010     27 non-null     object \n 5   2012     27 non-null     object \n 6   2014     27 non-null     object \n 7   2015     27 non-null     object \n 8   2016     27 non-null     float64\n 9   2018     27 non-null     object \ndtypes: float64(1), object(9)\nmemory usage: 2.2+ KB\n"
     ]
    }
   ],
   "source": [
    "datos.info()"
   ]
  },
  {
   "source": [
    "Convertimos los valores numericos a Float. En este caso son las columnas de los años"
   ],
   "cell_type": "markdown",
   "metadata": {}
  },
  {
   "cell_type": "code",
   "execution_count": 10,
   "metadata": {},
   "outputs": [],
   "source": [
    "for col in datos.columns[1:]:\n",
    "    datos[col] = pd.to_numeric(datos[col], errors='coerce')"
   ]
  },
  {
   "source": [
    "Mostramos nuevamente la información de las columnas para corroborar que el tipo de dato se haya cambiado."
   ],
   "cell_type": "markdown",
   "metadata": {}
  },
  {
   "cell_type": "code",
   "execution_count": 11,
   "metadata": {},
   "outputs": [
    {
     "output_type": "stream",
     "name": "stdout",
     "text": [
      "<class 'pandas.core.frame.DataFrame'>\nRangeIndex: 27 entries, 0 to 26\nData columns (total 10 columns):\n #   Column   Non-Null Count  Dtype  \n---  ------   --------------  -----  \n 0   Country  27 non-null     object \n 1   2004     26 non-null     float64\n 2   2006     25 non-null     float64\n 3   2008     26 non-null     float64\n 4   2010     26 non-null     float64\n 5   2012     26 non-null     float64\n 6   2014     26 non-null     float64\n 7   2015     1 non-null      float64\n 8   2016     27 non-null     float64\n 9   2018     26 non-null     float64\ndtypes: float64(9), object(1)\nmemory usage: 2.2+ KB\n"
     ]
    }
   ],
   "source": [
    "  datos.info()"
   ]
  },
  {
   "source": [
    "Mostramos los datos del _DataFrame_ asignado a la variable **datos**"
   ],
   "cell_type": "markdown",
   "metadata": {}
  },
  {
   "source": [
    "Desplegando la información dentro del DataFrame"
   ],
   "cell_type": "markdown",
   "metadata": {}
  },
  {
   "cell_type": "code",
   "execution_count": 13,
   "metadata": {},
   "outputs": [
    {
     "output_type": "execute_result",
     "data": {
      "text/plain": [
       "            Country       2004       2006       2008       2010       2012  \\\n",
       "0           Austria  53,020.95  54,286.60  56,308.77  46,799.58  48,045.09   \n",
       "1           Belgium  52,809.34  59,351.72  48,621.91  61,345.80  53,839.47   \n",
       "2    Czech Republic  29,275.74  24,745.75  25,419.70  23,757.57  23,171.36   \n",
       "3           Denmark  12,588.95  14,703.14  15,155.21  16,217.74  16,713.82   \n",
       "4           Estonia  20,860.68  18,932.90  19,583.86  19,000.20  21,992.34   \n",
       "5           Finland  69,708.48  72,205.48  81,792.85 104,336.90  91,824.20   \n",
       "6            France 296,580.90 312,297.80 345,002.20 355,081.30 344,731.90   \n",
       "7           Germany 364,021.90 363,786.10 372,796.30 363,545.00 368,022.20   \n",
       "8            Greece  33,346.96  51,324.66  68,643.96  70,432.70  72,328.28   \n",
       "9           Hungary  24,660.92  22,287.48  16,949.20  16,735.42  16,310.15   \n",
       "10          Iceland     501.43        NaN     772.58     510.94     529.35   \n",
       "11          Ireland  24,499.14  29,599.18  22,502.82  19,807.59  12,713.02   \n",
       "12            Italy 139,806.10 155,025.00 179,257.50 158,627.60 154,427.00   \n",
       "13            Korea        NaN        NaN        NaN        NaN        NaN   \n",
       "14           Latvia   1,257.22   1,858.55   1,495.08   1,498.20   2,309.58   \n",
       "15        Lithuania   7,010.18   6,361.11   6,333.35   5,578.13   5,678.75   \n",
       "16       Luxembourg   8,315.77   8,378.91   9,592.14  10,441.47   8,397.23   \n",
       "17      Netherlands  92,448.12  99,166.56 102,648.60 121,145.50 121,194.50   \n",
       "18           Norway   7,453.56   9,913.29  10,286.64   9,433.00  10,720.87   \n",
       "19           Poland 137,478.50 153,628.90 138,984.60 158,662.00 162,383.00   \n",
       "20         Portugal  29,317.29  34,952.77  16,882.92  13,640.08  13,359.52   \n",
       "21  Slovak Republic  10,668.41  14,501.50  11,472.01   9,384.11   8,425.38   \n",
       "22         Slovenia   5,770.51   6,035.83   5,038.40   5,986.11   4,546.51   \n",
       "23            Spain 160,668.10 160,946.60 149,254.20 137,518.90 118,561.70   \n",
       "24           Sweden  91,759.47  94,971.30  86,168.59 117,645.20 156,306.50   \n",
       "25           Turkey  58,820.31  46,091.63  64,764.50  63,540.63  67,383.77   \n",
       "26   United Kingdom 298,798.80 291,147.40 282,222.10 241,820.00 241,690.40   \n",
       "\n",
       "         2014       2015       2016       2018  \n",
       "0   55,868.30        NaN  61,225.04  65,666.13  \n",
       "1   57,965.39        NaN  63,152.38  67,613.23  \n",
       "2   23,394.96        NaN  25,381.43  27,913.45  \n",
       "3   20,808.84        NaN  20,981.93  21,445.90  \n",
       "4   21,804.04        NaN  24,277.88  23,185.58  \n",
       "5   95,969.89        NaN 122,869.20 128,195.30  \n",
       "6  324,463.00        NaN 322,685.30 342,387.90  \n",
       "7  387,504.30        NaN 400,071.70 405,523.60  \n",
       "8   69,758.87        NaN  72,332.35  45,592.60  \n",
       "9   16,650.64        NaN  15,938.08  18,369.59  \n",
       "10     815.15        NaN   1,067.32   1,293.51  \n",
       "11  15,166.83        NaN  15,251.69  13,986.76  \n",
       "12 157,870.30        NaN 163,827.80 172,502.80  \n",
       "13        NaN 175,208.00 180,367.00        NaN  \n",
       "14   2,621.49        NaN   1,909.63   1,773.73  \n",
       "15   6,200.45        NaN   6,674.24   7,080.54  \n",
       "16   7,072.76        NaN  10,130.08   9,014.40  \n",
       "17 132,362.30        NaN 141,024.00 145,241.00  \n",
       "18  10,614.91        NaN  11,131.59  14,137.72  \n",
       "19 179,179.90        NaN 182,005.70 175,143.50  \n",
       "20  14,368.00        NaN  14,739.13  15,894.87  \n",
       "21   8,862.78        NaN  10,606.97  12,401.87  \n",
       "22   4,686.42        NaN   5,494.36   8,220.68  \n",
       "23 110,518.50        NaN 128,958.50 137,822.90  \n",
       "24 167,026.90        NaN 141,625.70 138,667.60  \n",
       "25  73,075.12        NaN  75,534.65  97,294.07  \n",
       "26 263,319.50        NaN 277,255.00 282,209.80  "
      ],
      "text/html": "<div>\n<style scoped>\n    .dataframe tbody tr th:only-of-type {\n        vertical-align: middle;\n    }\n\n    .dataframe tbody tr th {\n        vertical-align: top;\n    }\n\n    .dataframe thead th {\n        text-align: right;\n    }\n</style>\n<table border=\"1\" class=\"dataframe\">\n  <thead>\n    <tr style=\"text-align: right;\">\n      <th></th>\n      <th>Country</th>\n      <th>2004</th>\n      <th>2006</th>\n      <th>2008</th>\n      <th>2010</th>\n      <th>2012</th>\n      <th>2014</th>\n      <th>2015</th>\n      <th>2016</th>\n      <th>2018</th>\n    </tr>\n  </thead>\n  <tbody>\n    <tr>\n      <th>0</th>\n      <td>Austria</td>\n      <td>53,020.95</td>\n      <td>54,286.60</td>\n      <td>56,308.77</td>\n      <td>46,799.58</td>\n      <td>48,045.09</td>\n      <td>55,868.30</td>\n      <td>NaN</td>\n      <td>61,225.04</td>\n      <td>65,666.13</td>\n    </tr>\n    <tr>\n      <th>1</th>\n      <td>Belgium</td>\n      <td>52,809.34</td>\n      <td>59,351.72</td>\n      <td>48,621.91</td>\n      <td>61,345.80</td>\n      <td>53,839.47</td>\n      <td>57,965.39</td>\n      <td>NaN</td>\n      <td>63,152.38</td>\n      <td>67,613.23</td>\n    </tr>\n    <tr>\n      <th>2</th>\n      <td>Czech Republic</td>\n      <td>29,275.74</td>\n      <td>24,745.75</td>\n      <td>25,419.70</td>\n      <td>23,757.57</td>\n      <td>23,171.36</td>\n      <td>23,394.96</td>\n      <td>NaN</td>\n      <td>25,381.43</td>\n      <td>27,913.45</td>\n    </tr>\n    <tr>\n      <th>3</th>\n      <td>Denmark</td>\n      <td>12,588.95</td>\n      <td>14,703.14</td>\n      <td>15,155.21</td>\n      <td>16,217.74</td>\n      <td>16,713.82</td>\n      <td>20,808.84</td>\n      <td>NaN</td>\n      <td>20,981.93</td>\n      <td>21,445.90</td>\n    </tr>\n    <tr>\n      <th>4</th>\n      <td>Estonia</td>\n      <td>20,860.68</td>\n      <td>18,932.90</td>\n      <td>19,583.86</td>\n      <td>19,000.20</td>\n      <td>21,992.34</td>\n      <td>21,804.04</td>\n      <td>NaN</td>\n      <td>24,277.88</td>\n      <td>23,185.58</td>\n    </tr>\n    <tr>\n      <th>5</th>\n      <td>Finland</td>\n      <td>69,708.48</td>\n      <td>72,205.48</td>\n      <td>81,792.85</td>\n      <td>104,336.90</td>\n      <td>91,824.20</td>\n      <td>95,969.89</td>\n      <td>NaN</td>\n      <td>122,869.20</td>\n      <td>128,195.30</td>\n    </tr>\n    <tr>\n      <th>6</th>\n      <td>France</td>\n      <td>296,580.90</td>\n      <td>312,297.80</td>\n      <td>345,002.20</td>\n      <td>355,081.30</td>\n      <td>344,731.90</td>\n      <td>324,463.00</td>\n      <td>NaN</td>\n      <td>322,685.30</td>\n      <td>342,387.90</td>\n    </tr>\n    <tr>\n      <th>7</th>\n      <td>Germany</td>\n      <td>364,021.90</td>\n      <td>363,786.10</td>\n      <td>372,796.30</td>\n      <td>363,545.00</td>\n      <td>368,022.20</td>\n      <td>387,504.30</td>\n      <td>NaN</td>\n      <td>400,071.70</td>\n      <td>405,523.60</td>\n    </tr>\n    <tr>\n      <th>8</th>\n      <td>Greece</td>\n      <td>33,346.96</td>\n      <td>51,324.66</td>\n      <td>68,643.96</td>\n      <td>70,432.70</td>\n      <td>72,328.28</td>\n      <td>69,758.87</td>\n      <td>NaN</td>\n      <td>72,332.35</td>\n      <td>45,592.60</td>\n    </tr>\n    <tr>\n      <th>9</th>\n      <td>Hungary</td>\n      <td>24,660.92</td>\n      <td>22,287.48</td>\n      <td>16,949.20</td>\n      <td>16,735.42</td>\n      <td>16,310.15</td>\n      <td>16,650.64</td>\n      <td>NaN</td>\n      <td>15,938.08</td>\n      <td>18,369.59</td>\n    </tr>\n    <tr>\n      <th>10</th>\n      <td>Iceland</td>\n      <td>501.43</td>\n      <td>NaN</td>\n      <td>772.58</td>\n      <td>510.94</td>\n      <td>529.35</td>\n      <td>815.15</td>\n      <td>NaN</td>\n      <td>1,067.32</td>\n      <td>1,293.51</td>\n    </tr>\n    <tr>\n      <th>11</th>\n      <td>Ireland</td>\n      <td>24,499.14</td>\n      <td>29,599.18</td>\n      <td>22,502.82</td>\n      <td>19,807.59</td>\n      <td>12,713.02</td>\n      <td>15,166.83</td>\n      <td>NaN</td>\n      <td>15,251.69</td>\n      <td>13,986.76</td>\n    </tr>\n    <tr>\n      <th>12</th>\n      <td>Italy</td>\n      <td>139,806.10</td>\n      <td>155,025.00</td>\n      <td>179,257.50</td>\n      <td>158,627.60</td>\n      <td>154,427.00</td>\n      <td>157,870.30</td>\n      <td>NaN</td>\n      <td>163,827.80</td>\n      <td>172,502.80</td>\n    </tr>\n    <tr>\n      <th>13</th>\n      <td>Korea</td>\n      <td>NaN</td>\n      <td>NaN</td>\n      <td>NaN</td>\n      <td>NaN</td>\n      <td>NaN</td>\n      <td>NaN</td>\n      <td>175,208.00</td>\n      <td>180,367.00</td>\n      <td>NaN</td>\n    </tr>\n    <tr>\n      <th>14</th>\n      <td>Latvia</td>\n      <td>1,257.22</td>\n      <td>1,858.55</td>\n      <td>1,495.08</td>\n      <td>1,498.20</td>\n      <td>2,309.58</td>\n      <td>2,621.49</td>\n      <td>NaN</td>\n      <td>1,909.63</td>\n      <td>1,773.73</td>\n    </tr>\n    <tr>\n      <th>15</th>\n      <td>Lithuania</td>\n      <td>7,010.18</td>\n      <td>6,361.11</td>\n      <td>6,333.35</td>\n      <td>5,578.13</td>\n      <td>5,678.75</td>\n      <td>6,200.45</td>\n      <td>NaN</td>\n      <td>6,674.24</td>\n      <td>7,080.54</td>\n    </tr>\n    <tr>\n      <th>16</th>\n      <td>Luxembourg</td>\n      <td>8,315.77</td>\n      <td>8,378.91</td>\n      <td>9,592.14</td>\n      <td>10,441.47</td>\n      <td>8,397.23</td>\n      <td>7,072.76</td>\n      <td>NaN</td>\n      <td>10,130.08</td>\n      <td>9,014.40</td>\n    </tr>\n    <tr>\n      <th>17</th>\n      <td>Netherlands</td>\n      <td>92,448.12</td>\n      <td>99,166.56</td>\n      <td>102,648.60</td>\n      <td>121,145.50</td>\n      <td>121,194.50</td>\n      <td>132,362.30</td>\n      <td>NaN</td>\n      <td>141,024.00</td>\n      <td>145,241.00</td>\n    </tr>\n    <tr>\n      <th>18</th>\n      <td>Norway</td>\n      <td>7,453.56</td>\n      <td>9,913.29</td>\n      <td>10,286.64</td>\n      <td>9,433.00</td>\n      <td>10,720.87</td>\n      <td>10,614.91</td>\n      <td>NaN</td>\n      <td>11,131.59</td>\n      <td>14,137.72</td>\n    </tr>\n    <tr>\n      <th>19</th>\n      <td>Poland</td>\n      <td>137,478.50</td>\n      <td>153,628.90</td>\n      <td>138,984.60</td>\n      <td>158,662.00</td>\n      <td>162,383.00</td>\n      <td>179,179.90</td>\n      <td>NaN</td>\n      <td>182,005.70</td>\n      <td>175,143.50</td>\n    </tr>\n    <tr>\n      <th>20</th>\n      <td>Portugal</td>\n      <td>29,317.29</td>\n      <td>34,952.77</td>\n      <td>16,882.92</td>\n      <td>13,640.08</td>\n      <td>13,359.52</td>\n      <td>14,368.00</td>\n      <td>NaN</td>\n      <td>14,739.13</td>\n      <td>15,894.87</td>\n    </tr>\n    <tr>\n      <th>21</th>\n      <td>Slovak Republic</td>\n      <td>10,668.41</td>\n      <td>14,501.50</td>\n      <td>11,472.01</td>\n      <td>9,384.11</td>\n      <td>8,425.38</td>\n      <td>8,862.78</td>\n      <td>NaN</td>\n      <td>10,606.97</td>\n      <td>12,401.87</td>\n    </tr>\n    <tr>\n      <th>22</th>\n      <td>Slovenia</td>\n      <td>5,770.51</td>\n      <td>6,035.83</td>\n      <td>5,038.40</td>\n      <td>5,986.11</td>\n      <td>4,546.51</td>\n      <td>4,686.42</td>\n      <td>NaN</td>\n      <td>5,494.36</td>\n      <td>8,220.68</td>\n    </tr>\n    <tr>\n      <th>23</th>\n      <td>Spain</td>\n      <td>160,668.10</td>\n      <td>160,946.60</td>\n      <td>149,254.20</td>\n      <td>137,518.90</td>\n      <td>118,561.70</td>\n      <td>110,518.50</td>\n      <td>NaN</td>\n      <td>128,958.50</td>\n      <td>137,822.90</td>\n    </tr>\n    <tr>\n      <th>24</th>\n      <td>Sweden</td>\n      <td>91,759.47</td>\n      <td>94,971.30</td>\n      <td>86,168.59</td>\n      <td>117,645.20</td>\n      <td>156,306.50</td>\n      <td>167,026.90</td>\n      <td>NaN</td>\n      <td>141,625.70</td>\n      <td>138,667.60</td>\n    </tr>\n    <tr>\n      <th>25</th>\n      <td>Turkey</td>\n      <td>58,820.31</td>\n      <td>46,091.63</td>\n      <td>64,764.50</td>\n      <td>63,540.63</td>\n      <td>67,383.77</td>\n      <td>73,075.12</td>\n      <td>NaN</td>\n      <td>75,534.65</td>\n      <td>97,294.07</td>\n    </tr>\n    <tr>\n      <th>26</th>\n      <td>United Kingdom</td>\n      <td>298,798.80</td>\n      <td>291,147.40</td>\n      <td>282,222.10</td>\n      <td>241,820.00</td>\n      <td>241,690.40</td>\n      <td>263,319.50</td>\n      <td>NaN</td>\n      <td>277,255.00</td>\n      <td>282,209.80</td>\n    </tr>\n  </tbody>\n</table>\n</div>"
     },
     "metadata": {},
     "execution_count": 13
    }
   ],
   "source": [
    "datos.head(30)"
   ]
  }
 ]
}